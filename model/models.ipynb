{
 "cells": [
  {
   "cell_type": "code",
   "execution_count": null,
   "metadata": {},
   "outputs": [],
   "source": [
    "## The current best mask rcnn weights can be downloaded in the following google drive\n",
    "\n",
    "'https://drive.google.com/file/d/1YehRbS7ZXE4Hc2YKvX7oZlZzSanMSSvv/view?usp=sharing'"
   ]
  }
 ],
 "metadata": {
  "language_info": {
   "name": "python"
  },
  "orig_nbformat": 4
 },
 "nbformat": 4,
 "nbformat_minor": 2
}
